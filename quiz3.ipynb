{
  "nbformat": 4,
  "nbformat_minor": 0,
  "metadata": {
    "colab": {
      "provenance": []
    },
    "kernelspec": {
      "name": "python3",
      "display_name": "Python 3"
    },
    "language_info": {
      "name": "python"
    }
  },
  "cells": [
    {
      "cell_type": "code",
      "source": [
        "import random\n",
        "# Generating a random number between 1 and 10\n",
        "secret_number = random.randint(1, 10)\n",
        "attempts = 0\n",
        "while attempts < 3:\n",
        "    guess = int(input(\"Guess any number between 1 and 10: \"))\n",
        "    if guess < secret_number:\n",
        "        print(\"Too low, try again!\")\n",
        "    elif guess > secret_number:\n",
        "        print(\"Too high, try again!\")\n",
        "    else:\n",
        "        print(\"Congratulations, You have guessed it right.\")\n",
        "        break\n",
        "    attempts += 1\n",
        "if attempts == 3:\n",
        "    print(f\"You lost! The correct number was {secret_number}.\")"
      ],
      "metadata": {
        "colab": {
          "base_uri": "https://localhost:8080/"
        },
        "id": "y6IYRY-z1mqn",
        "outputId": "dbf9c0ed-4355-4690-8ae7-1d2015d0b9c2"
      },
      "execution_count": 1,
      "outputs": [
        {
          "output_type": "stream",
          "name": "stdout",
          "text": [
            "Guess any number between 1 and 10: 2\n",
            "Too low, try again!\n",
            "Guess any number between 1 and 10: 3\n",
            "Too low, try again!\n",
            "Guess any number between 1 and 10: 4\n",
            "Too low, try again!\n",
            "You lost! The correct number was 8.\n"
          ]
        }
      ]
    },
    {
      "cell_type": "code",
      "source": [
        "import random\n",
        "# Generating a random number between 1 and 10\n",
        "secret_number = random.randint(1, 10)\n",
        "attempts = 0\n",
        "while attempts < 3:\n",
        "    guess = int(input(\"Guess any number between 1 and 10: \"))\n",
        "    if guess < secret_number:\n",
        "        print(\"Too low, try again!\")\n",
        "    elif guess > secret_number:\n",
        "        print(\"Too high, try again!\")\n",
        "    else:\n",
        "        print(\"Congratulations, You have guessed it right.\")\n",
        "        break\n",
        "    attempts += 1\n",
        "if attempts == 3:\n",
        "    print(f\"You lost! The correct number was {secret_number}.\")"
      ],
      "metadata": {
        "colab": {
          "base_uri": "https://localhost:8080/"
        },
        "id": "GifupBupA3rA",
        "outputId": "15518797-d49c-4da9-a599-fadfee375f81"
      },
      "execution_count": 2,
      "outputs": [
        {
          "output_type": "stream",
          "name": "stdout",
          "text": [
            "Guess any number between 1 and 10: 10\n",
            "Too high, try again!\n",
            "Guess any number between 1 and 10: 9\n",
            "Too high, try again!\n",
            "Guess any number between 1 and 10: 5\n",
            "Too low, try again!\n",
            "You lost! The correct number was 6.\n"
          ]
        }
      ]
    },
    {
      "cell_type": "code",
      "source": [
        "import random\n",
        "# Generating a random number between 1 and 10\n",
        "secret_number = random.randint(1, 10)\n",
        "attempts = 0\n",
        "while attempts < 3:\n",
        "    guess = int(input(\"Guess any number between 1 and 10: \"))\n",
        "    if guess < secret_number:\n",
        "        print(\"Too low, try again!\")\n",
        "    elif guess > secret_number:\n",
        "        print(\"Too high, try again!\")\n",
        "    else:\n",
        "        print(\"Congratulations, You have guessed it right.\")\n",
        "        break\n",
        "    attempts += 1\n",
        "if attempts == 3:\n",
        "    print(f\"You lost! The correct number was {secret_number}.\")"
      ],
      "metadata": {
        "colab": {
          "base_uri": "https://localhost:8080/"
        },
        "id": "A84L1EBNA8Ds",
        "outputId": "187cbf5c-8f76-43c9-f98b-4ccd326693c2"
      },
      "execution_count": 5,
      "outputs": [
        {
          "output_type": "stream",
          "name": "stdout",
          "text": [
            "Guess any number between 1 and 10: 5\n",
            "Too low, try again!\n",
            "Guess any number between 1 and 10: 8\n",
            "Too high, try again!\n",
            "Guess any number between 1 and 10: 6\n",
            "Congratulations, You have guessed it right.\n"
          ]
        }
      ]
    }
  ]
}